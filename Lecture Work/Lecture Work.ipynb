{
  "nbformat": 4,
  "nbformat_minor": 0,
  "metadata": {
    "colab": {
      "provenance": []
    },
    "kernelspec": {
      "name": "python3",
      "display_name": "Python 3"
    },
    "language_info": {
      "name": "python"
    }
  },
  "cells": [
    {
      "cell_type": "code",
      "execution_count": 2,
      "metadata": {
        "id": "ghhiubCYjGQx"
      },
      "outputs": [],
      "source": [
        "#print\n",
        "#operators\n",
        "#string and it's operations"
      ]
    },
    {
      "cell_type": "code",
      "source": [
        "print(\"hi\") #this line prints output"
      ],
      "metadata": {
        "colab": {
          "base_uri": "https://localhost:8080/"
        },
        "id": "6offacLGjcy3",
        "outputId": "e5114810-ac01-49b1-c2f3-4dd4a7ec8506"
      },
      "execution_count": 1,
      "outputs": [
        {
          "output_type": "stream",
          "name": "stdout",
          "text": [
            "hi\n"
          ]
        }
      ]
    },
    {
      "cell_type": "code",
      "source": [
        "#data types (comment #)\n",
        "\n",
        "string = \" sdd123@#\"\n",
        "\n",
        "integer = 6\n",
        "\n",
        "my_float = 8.8\n",
        "\n",
        "boolean = True or False\n"
      ],
      "metadata": {
        "id": "IhF3mNHJl1xz"
      },
      "execution_count": 3,
      "outputs": []
    },
    {
      "cell_type": "code",
      "source": [
        "print('hi')"
      ],
      "metadata": {
        "id": "ifK5ae80jeF6",
        "colab": {
          "base_uri": "https://localhost:8080/"
        },
        "outputId": "77963d95-0de5-4734-d2b6-6a0ed281b269"
      },
      "execution_count": 4,
      "outputs": [
        {
          "output_type": "stream",
          "name": "stdout",
          "text": [
            "hi\n"
          ]
        }
      ]
    },
    {
      "cell_type": "code",
      "source": [
        "#variables letters or underscore _ but you cannot start it with digits\n",
        "num1 = 3\n",
        "num2 = 8\n",
        "print(num1+num2)\n",
        "\n",
        "\n",
        "\n"
      ],
      "metadata": {
        "id": "uoEQWvv7mzDf",
        "colab": {
          "base_uri": "https://localhost:8080/"
        },
        "outputId": "5c47bd39-e198-4dcf-d9e4-13f0a9167fd8"
      },
      "execution_count": 5,
      "outputs": [
        {
          "output_type": "stream",
          "name": "stdout",
          "text": [
            "11\n"
          ]
        }
      ]
    },
    {
      "cell_type": "code",
      "source": [
        "name = input(\"enter name: \")\n",
        "print(\"HI my name is \", name)"
      ],
      "metadata": {
        "id": "JMlQ0TNwnjyG",
        "colab": {
          "base_uri": "https://localhost:8080/"
        },
        "outputId": "0b7c82e7-eb16-4035-bba4-8a39afad5db0"
      },
      "execution_count": 6,
      "outputs": [
        {
          "output_type": "stream",
          "name": "stdout",
          "text": [
            "enter name: Ashok\n",
            "HI my name is  Ashok\n"
          ]
        }
      ]
    },
    {
      "cell_type": "code",
      "source": [
        "age = int(input(\"enter age  \"))\n",
        "print(age)"
      ],
      "metadata": {
        "id": "arNzNEs1n9tw",
        "colab": {
          "base_uri": "https://localhost:8080/"
        },
        "outputId": "d7b57978-2796-4665-d0aa-fb94ecbdf18b"
      },
      "execution_count": 7,
      "outputs": [
        {
          "output_type": "stream",
          "name": "stdout",
          "text": [
            "enter age  21\n",
            "21\n"
          ]
        }
      ]
    },
    {
      "cell_type": "code",
      "source": [
        "age = float(input(\"enter age  \"))\n",
        "print(age)"
      ],
      "metadata": {
        "id": "E5FSZZzaoKu3",
        "colab": {
          "base_uri": "https://localhost:8080/"
        },
        "outputId": "3bb3ac8f-f25e-4553-8f1c-cb07d4d37de9"
      },
      "execution_count": 8,
      "outputs": [
        {
          "output_type": "stream",
          "name": "stdout",
          "text": [
            "enter age  21.5\n",
            "21.5\n"
          ]
        }
      ]
    },
    {
      "cell_type": "code",
      "source": [
        "#type conversion\n",
        "x = 9\n",
        "print(x)\n",
        "print(str(x))"
      ],
      "metadata": {
        "id": "RIpcf6xjoa1p",
        "colab": {
          "base_uri": "https://localhost:8080/"
        },
        "outputId": "9d61ed92-4e10-4586-eda7-4abd1a653c78"
      },
      "execution_count": 9,
      "outputs": [
        {
          "output_type": "stream",
          "name": "stdout",
          "text": [
            "9\n",
            "9\n"
          ]
        }
      ]
    },
    {
      "cell_type": "code",
      "source": [
        "x = 9\n",
        "print(x)\n",
        "print(str(x))"
      ],
      "metadata": {
        "id": "6QFO4ZnEoq0C",
        "colab": {
          "base_uri": "https://localhost:8080/"
        },
        "outputId": "f8cb399d-2ab2-44f4-e216-9cfc5e695882"
      },
      "execution_count": 10,
      "outputs": [
        {
          "output_type": "stream",
          "name": "stdout",
          "text": [
            "9\n",
            "9\n"
          ]
        }
      ]
    },
    {
      "cell_type": "code",
      "source": [
        "#operators\n",
        "#arithmetic operators + - * / // % ** ++ --\n",
        "a = 9\n",
        "b = 8\n",
        "print(a+b)\n",
        "print(a-b)\n",
        "print(a*b)\n",
        "print(a/b)\n",
        "print(a//b) #floor operator\n",
        "print(a%b) #modulus operator\n",
        "print(a**b)\n",
        "\n",
        "a = a+1 #a+=1\n",
        "print(a)\n",
        "\n",
        "a = a-1 #a-=1\n",
        "print(a)"
      ],
      "metadata": {
        "colab": {
          "base_uri": "https://localhost:8080/"
        },
        "id": "2I6b7Y57o7sC",
        "outputId": "447e5bd6-96dc-4dc1-a7f0-ec00b19248a6"
      },
      "execution_count": 11,
      "outputs": [
        {
          "output_type": "stream",
          "name": "stdout",
          "text": [
            "17\n",
            "1\n",
            "72\n",
            "1.125\n",
            "1\n",
            "1\n",
            "43046721\n",
            "10\n",
            "9\n"
          ]
        }
      ]
    },
    {
      "cell_type": "code",
      "source": [
        "# comparison operator > < >= <= == != #homework\n",
        "a=9\n",
        "b=8\n",
        "print(a>b)\n",
        "print(a<b)\n",
        "print(a>=b)\n",
        "print(a<=b)\n",
        "print(a==b)\n",
        "print(a!=b)"
      ],
      "metadata": {
        "id": "fNNTo3vGqRgF",
        "colab": {
          "base_uri": "https://localhost:8080/"
        },
        "outputId": "c576b2e2-043a-4b89-9d77-a78fd7a23fe1"
      },
      "execution_count": 13,
      "outputs": [
        {
          "output_type": "stream",
          "name": "stdout",
          "text": [
            "True\n",
            "False\n",
            "True\n",
            "False\n",
            "False\n",
            "True\n"
          ]
        }
      ]
    },
    {
      "cell_type": "code",
      "source": [
        "#logical operator and or not\n",
        "\n",
        "f = True\n",
        "l = False\n",
        "\n",
        "print(f or l)"
      ],
      "metadata": {
        "colab": {
          "base_uri": "https://localhost:8080/"
        },
        "id": "cYmQdogBqWb9",
        "outputId": "48c7d2c7-5ce6-4476-dea2-b6fe93348948"
      },
      "execution_count": 14,
      "outputs": [
        {
          "output_type": "stream",
          "name": "stdout",
          "text": [
            "True\n"
          ]
        }
      ]
    },
    {
      "cell_type": "code",
      "source": [
        "f = True\n",
        "l = False\n",
        "\n",
        "print(f and l)"
      ],
      "metadata": {
        "colab": {
          "base_uri": "https://localhost:8080/"
        },
        "id": "ivHwhhJcqxmB",
        "outputId": "73401bd8-8c39-4b53-efe1-a96cbb68afb3"
      },
      "execution_count": 15,
      "outputs": [
        {
          "output_type": "stream",
          "name": "stdout",
          "text": [
            "False\n"
          ]
        }
      ]
    },
    {
      "cell_type": "code",
      "source": [
        "c = True\n",
        "print(not c)"
      ],
      "metadata": {
        "colab": {
          "base_uri": "https://localhost:8080/"
        },
        "id": "l3yrT124q9Et",
        "outputId": "7728a71d-6a09-49cf-c4b9-d2f9c51350a7"
      },
      "execution_count": 16,
      "outputs": [
        {
          "output_type": "stream",
          "name": "stdout",
          "text": [
            "False\n"
          ]
        }
      ]
    },
    {
      "cell_type": "code",
      "source": [
        "#strings\n",
        "name = \"steve\"\n",
        "print(name[0])\n",
        "print(name[-1])\n",
        "# [start:stop:step]\n",
        "print(name[0:3:2])"
      ],
      "metadata": {
        "colab": {
          "base_uri": "https://localhost:8080/"
        },
        "id": "Uv7vd4eSrGrT",
        "outputId": "a8d6fda7-dd5d-4260-9f7b-d08691b673d3"
      },
      "execution_count": 17,
      "outputs": [
        {
          "output_type": "stream",
          "name": "stdout",
          "text": [
            "s\n",
            "e\n",
            "se\n"
          ]
        }
      ]
    },
    {
      "cell_type": "code",
      "source": [
        "name1 = \"josly\"\n",
        "print(name1[::-1])"
      ],
      "metadata": {
        "colab": {
          "base_uri": "https://localhost:8080/"
        },
        "id": "zfBnvKURuDx5",
        "outputId": "e856915d-7be7-49cc-92f5-f669883bfd52"
      },
      "execution_count": 18,
      "outputs": [
        {
          "output_type": "stream",
          "name": "stdout",
          "text": [
            "ylsoj\n"
          ]
        }
      ]
    },
    {
      "cell_type": "code",
      "source": [
        "#operations on string\n",
        "name1 = \"josly\"\n",
        "print(name1.capitalize())\n",
        "print(name1.upper())\n",
        "print(name1.lower())\n",
        "print(name1.isupper())\n",
        "print(name1.islower())\n",
        "print(name1.isdigit())\n",
        "print(name1.count(\"j\"))\n",
        "\n",
        "#vp join and split\n",
        "\n",
        "x = \"new\".join(name1)\n",
        "print(x)\n",
        "\n",
        "#split\n",
        "name = \"n e,w\"\n",
        "sp = name.split(\" \")\n",
        "print(sp)"
      ],
      "metadata": {
        "colab": {
          "base_uri": "https://localhost:8080/"
        },
        "id": "jmmDrbG9ubi_",
        "outputId": "d85cb708-acb0-44f4-f92a-b31ca5e0af60"
      },
      "execution_count": 19,
      "outputs": [
        {
          "output_type": "stream",
          "name": "stdout",
          "text": [
            "Josly\n",
            "JOSLY\n",
            "josly\n",
            "False\n",
            "True\n",
            "False\n",
            "1\n",
            "jnewonewsnewlnewy\n",
            "['n', 'e,w']\n"
          ]
        }
      ]
    },
    {
      "cell_type": "code",
      "source": [
        "print(\"*\\n*\")\n"
      ],
      "metadata": {
        "colab": {
          "base_uri": "https://localhost:8080/"
        },
        "id": "ktmzhvJRv-ao",
        "outputId": "c5342c6c-6003-487e-d994-eca6004917c1"
      },
      "execution_count": 20,
      "outputs": [
        {
          "output_type": "stream",
          "name": "stdout",
          "text": [
            "*\n",
            "*\n"
          ]
        }
      ]
    },
    {
      "cell_type": "code",
      "source": [
        "#conditional statements\n",
        "\n",
        "'''\n",
        "if\n",
        "elif (elseif)\n",
        "else\n",
        "'''\n"
      ],
      "metadata": {
        "id": "4g69M-S_tPy0",
        "colab": {
          "base_uri": "https://localhost:8080/",
          "height": 35
        },
        "outputId": "f09b02b6-4905-4caa-c542-97248d119caa"
      },
      "execution_count": 22,
      "outputs": [
        {
          "output_type": "execute_result",
          "data": {
            "text/plain": [
              "'\\nif\\nelif (elseif)\\nelse\\n'"
            ],
            "application/vnd.google.colaboratory.intrinsic+json": {
              "type": "string"
            }
          },
          "metadata": {},
          "execution_count": 22
        }
      ]
    },
    {
      "cell_type": "code",
      "source": [
        "x = 9\n",
        "y = 8\n",
        "if x>y:\n",
        "  print(\"correct\")\n",
        "else:\n",
        "  print(\"incorrect\")"
      ],
      "metadata": {
        "colab": {
          "base_uri": "https://localhost:8080/"
        },
        "id": "mgkk5YzOtP5I",
        "outputId": "cf758d96-da77-48ed-e9de-e6a94c8dd406"
      },
      "execution_count": 23,
      "outputs": [
        {
          "output_type": "stream",
          "name": "stdout",
          "text": [
            "correct\n"
          ]
        }
      ]
    },
    {
      "cell_type": "code",
      "source": [
        "food =input(\"enter food: \").lower()\n",
        "if food==\"pizza\":\n",
        "  print(\"available\")\n",
        "elif food == \"burger\":\n",
        "  print(\"available\")\n",
        "elif food == \"french fries\":\n",
        "  print(\"available\")\n",
        "else:\n",
        "  print(\"not available\")\n",
        "\n"
      ],
      "metadata": {
        "colab": {
          "base_uri": "https://localhost:8080/"
        },
        "id": "NTWNL0VMugfl",
        "outputId": "618c5775-a3d6-423f-83bb-b2a58ac396a4"
      },
      "execution_count": 24,
      "outputs": [
        {
          "output_type": "stream",
          "name": "stdout",
          "text": [
            "enter food: pizza\n",
            "available\n"
          ]
        }
      ]
    },
    {
      "cell_type": "code",
      "source": [
        "# and or not\n",
        "# create a even or odd program\n",
        "num=int(input(\"Enter a number : \"))\n",
        "if num%2==0:\n",
        "  print(num,\" is an even number\")\n",
        "else:\n",
        "  print(num,\" is an odd number\")"
      ],
      "metadata": {
        "id": "mdfpIdS-vLZD",
        "colab": {
          "base_uri": "https://localhost:8080/"
        },
        "outputId": "a22eec9c-ed51-4030-9fd7-810ef2dc4456"
      },
      "execution_count": 25,
      "outputs": [
        {
          "output_type": "stream",
          "name": "stdout",
          "text": [
            "Enter a number : 21\n",
            "21  is an odd number\n"
          ]
        }
      ]
    },
    {
      "cell_type": "code",
      "source": [
        "#nested if\n",
        "\n",
        "x = 9\n",
        "y = 10\n",
        "z= 8\n",
        "if x>y:\n",
        "  if x>z:\n",
        "    print(\"x is the greatest \")\n",
        "elif y>x:\n",
        "  if y>z:\n",
        "    print(\"y is the greatest\")\n",
        "else:\n",
        "  print(\"all are equal\")\n"
      ],
      "metadata": {
        "colab": {
          "base_uri": "https://localhost:8080/"
        },
        "id": "6NlTpWdavP4h",
        "outputId": "2a712dac-e991-41b8-b5b6-5f202616e53e"
      },
      "execution_count": 26,
      "outputs": [
        {
          "output_type": "stream",
          "name": "stdout",
          "text": [
            "y is the greatest\n"
          ]
        }
      ]
    },
    {
      "cell_type": "code",
      "source": [
        "food_categry=input(\"Enter what type of food you want veg or non-veg : \")\n",
        "\n",
        "if food_categry==\"veg\":\n",
        "\n",
        "  food=input(\"Enter food : \").lower()\n",
        "\n",
        "  if food==\"veg rice\":\n",
        "    print(\"Available\")\n",
        "  elif food==\"curd rice\":\n",
        "    print(\"Available\")\n",
        "  elif food==\"tomato rice\":\n",
        "    print(\"Available\")\n",
        "  else:\n",
        "    print(\"Not Available\")\n",
        "\n",
        "elif food_categry==\"non-veg\":\n",
        "\n",
        "  food=input(\"Enter your food : \").lower()\n",
        "\n",
        "  if food==\"chicken fry\":\n",
        "    print(\"Available\")\n",
        "  elif food==\"fish fry\":\n",
        "    print(\"Available\")\n",
        "  elif food==\"mutton chops\":\n",
        "    print(\"Available\")\n",
        "  else:\n",
        "    print(\"Not Available\")\n",
        "\n",
        "else:\n",
        "  print(\"Please enter valid category\")"
      ],
      "metadata": {
        "id": "d-_mbJ8IwDrf",
        "colab": {
          "base_uri": "https://localhost:8080/"
        },
        "outputId": "0a58cb46-3a6b-45e0-d798-e8f0133b57f2"
      },
      "execution_count": 30,
      "outputs": [
        {
          "output_type": "stream",
          "name": "stdout",
          "text": [
            "Enter what type of food you want veg or non-veg : veg\n",
            "Enter food : curd rice\n",
            "Available\n"
          ]
        }
      ]
    }
  ]
}